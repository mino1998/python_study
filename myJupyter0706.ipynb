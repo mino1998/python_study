{
 "cells": [
  {
   "cell_type": "code",
   "execution_count": 4,
   "id": "a16b327b",
   "metadata": {},
   "outputs": [
    {
     "name": "stdout",
     "output_type": "stream",
     "text": [
      "10 20\n"
     ]
    }
   ],
   "source": [
    "num=20\n",
    "i=10\n",
    "print(i,num)"
   ]
  },
  {
   "cell_type": "code",
   "execution_count": 10,
   "id": "252b9b55",
   "metadata": {},
   "outputs": [
    {
     "name": "stdout",
     "output_type": "stream",
     "text": [
      "i 값은 5보다 크다.\n",
      "num은 30보다 작다\n"
     ]
    }
   ],
   "source": [
    "#동일한 블럭에서는 들여쓰기를 맞추어야 하지만, 다른 블럭의 경우는 맞출 필요는 없다.\n",
    "if i>5:\n",
    "    print(\"i 값은 5보다 크다.\")\n",
    "     #print(\"같은블럭인데 들여쓰기가 달라요\")#오류\n",
    "\n",
    "if num<30:\n",
    "        print(\"num은 30보다 작다\") #위에 블럭과 들여쓰기가 달라도 상관없다."
   ]
  },
  {
   "cell_type": "code",
   "execution_count": 14,
   "id": "9b6c72e8",
   "metadata": {},
   "outputs": [
    {
     "name": "stdout",
     "output_type": "stream",
     "text": [
      "Hello\n"
     ]
    }
   ],
   "source": [
    "# 이건 주석입니다.\n",
    "\"\"\"\n",
    "이 문장은 문자열 상수를 만드는 문장인데 대입도 하지 않았고, \n",
    "출력에 이용하지도 않았기 때문에 주석처럼 처리됩니다.\n",
    "\"\"\"\n",
    "print(\"Hello\")"
   ]
  },
  {
   "cell_type": "code",
   "execution_count": 17,
   "id": "84330659",
   "metadata": {
    "scrolled": true
   },
   "outputs": [
    {
     "name": "stdout",
     "output_type": "stream",
     "text": [
      "['__add__', '__class__', '__contains__', '__delattr__', '__dir__', '__doc__', '__eq__', '__format__', '__ge__', '__getattribute__', '__getitem__', '__getnewargs__', '__gt__', '__hash__', '__init__', '__init_subclass__', '__iter__', '__le__', '__len__', '__lt__', '__mod__', '__mul__', '__ne__', '__new__', '__reduce__', '__reduce_ex__', '__repr__', '__rmod__', '__rmul__', '__setattr__', '__sizeof__', '__str__', '__subclasshook__', 'capitalize', 'casefold', 'center', 'count', 'encode', 'endswith', 'expandtabs', 'find', 'format', 'format_map', 'index', 'isalnum', 'isalpha', 'isascii', 'isdecimal', 'isdigit', 'isidentifier', 'islower', 'isnumeric', 'isprintable', 'isspace', 'istitle', 'isupper', 'join', 'ljust', 'lower', 'lstrip', 'maketrans', 'partition', 'removeprefix', 'removesuffix', 'replace', 'rfind', 'rindex', 'rjust', 'rpartition', 'rsplit', 'rstrip', 'split', 'splitlines', 'startswith', 'strip', 'swapcase', 'title', 'translate', 'upper', 'zfill']\n"
     ]
    }
   ],
   "source": [
    "data=\"Hello Vision\"\n",
    "print(dir(data))"
   ]
  },
  {
   "cell_type": "code",
   "execution_count": 23,
   "id": "db43157c",
   "metadata": {},
   "outputs": [
    {
     "name": "stdout",
     "output_type": "stream",
     "text": [
      "Help on built-in function print in module builtins:\n",
      "\n",
      "print(...)\n",
      "    print(value, ..., sep=' ', end='\\n', file=sys.stdout, flush=False)\n",
      "    \n",
      "    Prints the values to a stream, or to sys.stdout by default.\n",
      "    Optional keyword arguments:\n",
      "    file:  a file-like object (stream); defaults to the current sys.stdout.\n",
      "    sep:   string inserted between values, default a space.\n",
      "    end:   string appended after the last value, default a newline.\n",
      "    flush: whether to forcibly flush the stream.\n",
      "\n"
     ]
    }
   ],
   "source": [
    "help(print)"
   ]
  },
  {
   "cell_type": "code",
   "execution_count": 20,
   "id": "a3aefcff",
   "metadata": {},
   "outputs": [
    {
     "name": "stdout",
     "output_type": "stream",
     "text": [
      "['C:\\\\Users\\\\USER\\\\Desktop\\\\Hello_Vision\\\\python_study', 'C:\\\\Users\\\\USER\\\\anaconda3\\\\python310.zip', 'C:\\\\Users\\\\USER\\\\anaconda3\\\\DLLs', 'C:\\\\Users\\\\USER\\\\anaconda3\\\\lib', 'C:\\\\Users\\\\USER\\\\anaconda3', '', 'C:\\\\Users\\\\USER\\\\anaconda3\\\\lib\\\\site-packages', 'C:\\\\Users\\\\USER\\\\anaconda3\\\\lib\\\\site-packages\\\\win32', 'C:\\\\Users\\\\USER\\\\anaconda3\\\\lib\\\\site-packages\\\\win32\\\\lib', 'C:\\\\Users\\\\USER\\\\anaconda3\\\\lib\\\\site-packages\\\\Pythonwin']\n"
     ]
    }
   ],
   "source": [
    "import sys\n",
    "print(sys.path)"
   ]
  },
  {
   "cell_type": "code",
   "execution_count": 1,
   "id": "fe74e177",
   "metadata": {},
   "outputs": [
    {
     "name": "stdout",
     "output_type": "stream",
     "text": [
      "1873092674064 1873092674064\n"
     ]
    }
   ],
   "source": [
    "a=10\n",
    "b=10\n",
    "print(id(a),id(b))"
   ]
  },
  {
   "cell_type": "code",
   "execution_count": 4,
   "id": "0b747030",
   "metadata": {},
   "outputs": [
    {
     "name": "stdout",
     "output_type": "stream",
     "text": [
      "20\n"
     ]
    }
   ],
   "source": [
    "condition =20\n",
    "\n",
    "if condition>5:\n",
    "    data=20\n",
    "else :\n",
    "    dtata=30\n",
    "    print(data)\n",
    "# data가 서로 다른 블럭에 있기에 다른 것이다.\n",
    "print(data)"
   ]
  },
  {
   "cell_type": "code",
   "execution_count": 6,
   "id": "f1bdab3f",
   "metadata": {
    "scrolled": true
   },
   "outputs": [
    {
     "name": "stdout",
     "output_type": "stream",
     "text": [
      "[1, 2, 3, 4, 5, 6]\n"
     ]
    }
   ],
   "source": [
    "print([1,2,3]+[4,5,6]) #데이터의 모임의 경우는 결합"
   ]
  },
  {
   "cell_type": "code",
   "execution_count": 8,
   "id": "b6e5108d",
   "metadata": {},
   "outputs": [
    {
     "ename": "TypeError",
     "evalue": "can only concatenate str (not \"int\") to str",
     "output_type": "error",
     "traceback": [
      "\u001b[1;31m---------------------------------------------------------------------------\u001b[0m",
      "\u001b[1;31mTypeError\u001b[0m                                 Traceback (most recent call last)",
      "Cell \u001b[1;32mIn[8], line 1\u001b[0m\n\u001b[1;32m----> 1\u001b[0m \u001b[38;5;28mprint\u001b[39m(\u001b[38;5;124;43m\"\u001b[39;49m\u001b[38;5;124;43m문자열\u001b[39;49m\u001b[38;5;124;43m\"\u001b[39;49m\u001b[38;5;241;43m+\u001b[39;49m\u001b[38;5;241;43m3\u001b[39;49m)\n",
      "\u001b[1;31mTypeError\u001b[0m: can only concatenate str (not \"int\") to str"
     ]
    }
   ],
   "source": [
    "print(\"문자열\"+3) # 파이썬은 다른 타입끼리 절대 안됨"
   ]
  },
  {
   "cell_type": "code",
   "execution_count": 9,
   "id": "c8b0c823",
   "metadata": {},
   "outputs": [
    {
     "name": "stdout",
     "output_type": "stream",
     "text": [
      "(1, 2, 3, 1, 2, 3, 1, 2, 3)\n"
     ]
    }
   ],
   "source": [
    "print((1,2,3)*3) #데이터 모임 * 정수 는 반복이다. "
   ]
  },
  {
   "cell_type": "code",
   "execution_count": 1,
   "id": "8fabef15",
   "metadata": {},
   "outputs": [
    {
     "name": "stdout",
     "output_type": "stream",
     "text": [
      "hello world\n",
      "hello world\n",
      "hello world\n",
      "hello world\n",
      "hello world\n",
      "\n"
     ]
    }
   ],
   "source": [
    "print(\"hello world\\n\"*5)"
   ]
  },
  {
   "cell_type": "code",
   "execution_count": 2,
   "id": "76548de1",
   "metadata": {},
   "outputs": [
    {
     "name": "stdout",
     "output_type": "stream",
     "text": [
      "2023 는 윤년이 아님\n"
     ]
    }
   ],
   "source": [
    "year=2023 # 년도\n",
    "# 윤년의 조건 - 둘 중 하나만 True이면 True\n",
    "# 1. 4의 배수이고 100의 배수가 아닌 경우\n",
    "# 2. 400의 배수인 경우\n",
    "\n",
    "if ((year%4==0 and year%100!=0) or year%400==0):\n",
    "    print(year, \"는 윤년\")\n",
    "\n",
    "else:\n",
    "    print(year, \"는 윤년이 아님\")"
   ]
  },
  {
   "cell_type": "code",
   "execution_count": 5,
   "id": "2e4c9033",
   "metadata": {},
   "outputs": [
    {
     "name": "stdout",
     "output_type": "stream",
     "text": [
      "<class 'float'>\n"
     ]
    }
   ],
   "source": [
    "print(type(10.2356575545353))"
   ]
  },
  {
   "cell_type": "code",
   "execution_count": null,
   "id": "8fa1d7b5",
   "metadata": {},
   "outputs": [],
   "source": []
  },
  {
   "cell_type": "code",
   "execution_count": null,
   "id": "c318f590",
   "metadata": {},
   "outputs": [],
   "source": []
  }
 ],
 "metadata": {
  "kernelspec": {
   "display_name": "Python 3 (ipykernel)",
   "language": "python",
   "name": "python3"
  },
  "language_info": {
   "codemirror_mode": {
    "name": "ipython",
    "version": 3
   },
   "file_extension": ".py",
   "mimetype": "text/x-python",
   "name": "python",
   "nbconvert_exporter": "python",
   "pygments_lexer": "ipython3",
   "version": "3.10.9"
  }
 },
 "nbformat": 4,
 "nbformat_minor": 5
}

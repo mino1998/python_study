{
 "cells": [
  {
   "cell_type": "code",
   "execution_count": null,
   "id": "40fb8381",
   "metadata": {},
   "outputs": [],
   "source": [
    "#클래스 생성\n",
    "class Student:\n",
    "    #생성자 - 인스턴스를 생성할 떄 호출하는 메서드\n",
    "    #이 메서드에서 속성을 생성해서 속성을 처음부터\n",
    "    #소유하도록 만들어주는 것이 좋습니다.\n",
    "    #매개변수를 이용해서 초기화하면, 만들어질 때\n",
    "    #다양한 값으로 초기화가 가능합니다.\n",
    "    def __init__(self,name=\"noname\"):\n",
    "        #필수 요소는 아니면 기본값을 주고,\n",
    "        #필수 요소이면 기본값을 안주고 달라고 한다.\n",
    "        #name값을 안주면 noname이 들어감\n",
    "        print(\"인스턴스 생성\")\n",
    "        #self.name=\"기본값\" 특정 상수로 생성하는 경우에는\n",
    "        #생성자 내부에서 직접 설정, 권장 x\n",
    "        self.name=name#이제 name을 받아서 만듦\n",
    "        #매개변수를 이용해서 초기화 할 때,\n",
    "        #매개변수의 기본값을 설정하지 않으면\n",
    "        #인스턴스를 생성할 때, 반드시 매개변수에 값을 대입해야 한다.\n",
    "    #소멸자 - 인스턴스가 소멸될 때 호출되는 메서드\n",
    "    def __del__(self):\n",
    "        print(\"인스턴스 소멸\")\n",
    "    def disp(self):\n",
    "        print(\"인스턴스 메서드\")\n",
    "        #만들어지기는 클래스에 만들어졌지만\n",
    "        #인스턴스 없이는 호출할 수 없는 메서드\n",
    "    def setName(self, name):\n",
    "        self.name=name \n",
    "        #name이란 속성이 없으면 만들어서 대입, 존재하면 수정\n",
    "    def getName(self):\n",
    "        return self.name\n",
    "    \n",
    "stu1=Student(\"mino2\") #인스턴스 생성\n",
    "#메서드 호출\n",
    "#Student.disp(stu1)#첫 자리에 인스턴스를 넣어야함\n",
    "#클래스가 인스턴스의 메서드 호출 : unbound 호출\n",
    "stu1.disp()#self에 인스턴스가 대입됨 - bound 호출\n",
    "print(Student.getName(stu1))\n",
    "print(stu1.getName())"
   ]
  },
  {
   "cell_type": "code",
   "execution_count": null,
   "id": "1f272bc0",
   "metadata": {},
   "outputs": [],
   "source": [
    "class Student():\n",
    "    #클래스 속성 - 클래스에서 1개만 생성\n",
    "    auto_increment=0\n",
    "    def __init__(self):\n",
    "        #메서드 안에서 클래스 속성은 아래와 같이 부른다.\n",
    "        self.no=Student.auto_increment\n",
    "        Student.auto_increment+=1\n",
    "    def __del__(self):\n",
    "        print(\"인스턴스 소멸\")\n",
    "stu1=Student() #인스턴스가 생성되고 참조 카운트가 1이 됩니다.\n",
    "stu1=None#참조를 가리키는 변수에 None을 대입하면\n",
    "#참조 카운트가 1감소하며, 값이 0이 된다면 인스턴스가 소멸됩니다\n",
    "stu2=Student() #참조 카운트 1\n",
    "stu3=stu2 # 참조 카운트 2 ( 다른 변수에 참조를 대입)\n",
    "stu2=None # 참조 카운트 1감소 ( 1이라서 소멸은 안됨 )\n",
    "print(\"프로그램 종료\")"
   ]
  },
  {
   "cell_type": "code",
   "execution_count": null,
   "id": "e858b611",
   "metadata": {},
   "outputs": [],
   "source": [
    "class Student():\n",
    "    #클래스 속성 - 클래스에서 1개만 생성\n",
    "    auto_increment=0\n",
    "    def __init__(self):\n",
    "        #메서드 안에서 클래스 속성은 아래와 같이 부른다.\n",
    "        self.no=Student.auto_increment\n",
    "        Student.auto_increment+=1\n",
    "        print(self.no)\n",
    "    def __del__(self):\n",
    "        print(\"인스턴스 소멸\")\n",
    "    @staticmethod \n",
    "    def method():#static method는 self가 없다.\n",
    "        print(\"매개변수가 없는 static method\")\n",
    "#Student.method() #인스턴스를 만들 필요가 없는 static method\n",
    "#stu1=Student() #인스턴스가 생성되고 참조 카운트가 1이 됩니다.\n",
    "#stu1=None#참조를 가리키는 변수에 None을 대입하면\n",
    "#참조 카운트가 1감소하며, 값이 0이 된다면 인스턴스가 소멸됩니다\n",
    "stu2=Student() #참조 카운트 1\n",
    "stu3=stu2 # 참조 카운트 2 ( 다른 변수에 참조를 대입)\n",
    "stu2=None # 참조 카운트 1감소 ( 1이라서 소멸은 안됨 )\n",
    "print(\"프로그램 종료\")"
   ]
  },
  {
   "cell_type": "code",
   "execution_count": null,
   "id": "84349ec5",
   "metadata": {},
   "outputs": [],
   "source": [
    "class Student():\n",
    "    #name과 age 속성만 사용하도록 제한하고 싶다.\n",
    "    __slots__=[\"name\",\"age\"]\n",
    "stu1=Student()\n",
    "stu1.name=\"mino\"\n",
    "stu1.age=26\n",
    "stu1.job=\"student\"\n",
    "#이래도 파이썬은 기본적으로 에러가 안남\n",
    "#하지만 slots로 제한하면 job은 만들 수 없음"
   ]
  },
  {
   "cell_type": "code",
   "execution_count": null,
   "id": "76343acb",
   "metadata": {},
   "outputs": [],
   "source": [
    "class Student():\n",
    "    def __init__(self):\n",
    "        self.name=\"mino\"\n",
    "        self.__no=1\n",
    "        #이렇게 만들면 인스턴스는 속성에 직접 접근 불가\n",
    "        #메서드를 통해서만 접근 가능\n",
    "stu1=Student()\n",
    "print(stu1.name)\n",
    "print(stu1.__no)"
   ]
  },
  {
   "cell_type": "code",
   "execution_count": null,
   "id": "d7165a79",
   "metadata": {},
   "outputs": [],
   "source": [
    "class Student():\n",
    "    auto_increment=0\n",
    "    @classmethod\n",
    "    def method(self):\n",
    "        Student.auto_increment=100\n",
    "Student.method()"
   ]
  },
  {
   "cell_type": "code",
   "execution_count": null,
   "id": "40e9ae9d",
   "metadata": {},
   "outputs": [],
   "source": [
    "class Student():\n",
    "    def __init__(self, name=\"noname\"):\n",
    "        self.__name=name #속성 이름이 __로 시작하기에 인스턴스 접근물가\n",
    "    #접근자 메서드\n",
    "    def getName(self):\n",
    "        print(\"name의 getter 호출\")\n",
    "        return self.__name\n",
    "    def setName(self,name):\n",
    "        print(\"name의 setter 호출\")\n",
    "        self.__name=name\n",
    "    #property\n",
    "    #name을 호출하면 getName 메서드가 호출되고,\n",
    "    #name에 값을 대입하면 setName 메서드가 호출된다.\n",
    "    name=property(fget=getName, fset=setName)\n",
    "stu=Student()\n",
    "stu.setName(\"mino\")\n",
    "print(stu.getName())\n",
    "stu.name=\"mino2\"\n",
    "print(stu.name)"
   ]
  },
  {
   "cell_type": "code",
   "execution_count": null,
   "id": "9f86b2ff",
   "metadata": {},
   "outputs": [],
   "source": [
    "class Student:\n",
    "    def __init__(self,name=\"noname\"):\n",
    "        self.name=name\n",
    "    #+ 연산자 오버로딩\n",
    "    def __add__(self,other):\n",
    "        return self.name+other.name\n",
    "    #name을 결합하겠다.\n",
    "    #==연산자 오버로딩\n",
    "    def __eq__(self, other):\n",
    "        return self.name==other.name\n",
    "    #name만 같으면 같다.(id 확인x)\n",
    "stu1=Student(\"mino\")\n",
    "stu2=Student(\"mino\")\n",
    "#stu1, stu2 는 공간할당을 받고 id가 있는데\n",
    "# 두 id는 다르다. \n",
    "print(stu1+stu2) # 당연히 안된다.\n",
    "stu3=stu1\n",
    "print(stu1==stu2) #오버로딩을 하니까 얘는 True(왜냐면 단순 요소비교)\n",
    "print(stu1 is stu2)"
   ]
  },
  {
   "cell_type": "code",
   "execution_count": null,
   "id": "b7b858ff",
   "metadata": {},
   "outputs": [],
   "source": [
    "class Student:\n",
    "    def __init__(self, name=\"noname\", count=8):\n",
    "        self.name=name\n",
    "        self.count=count\n",
    "    def __add__(self, other):\n",
    "        return self.count+other.count\n",
    "stu1=Student(\"사과\",3)\n",
    "stu2=Student(\"포도\",2)\n",
    "print(stu1.count+stu2.count)#얘도 나오긴해\n",
    "print(stu1+stu2) #이러면 끝이긴 해"
   ]
  },
  {
   "cell_type": "code",
   "execution_count": null,
   "id": "3d6724d5",
   "metadata": {},
   "outputs": [],
   "source": [
    "class Sup:\n",
    "    def __init__(self):\n",
    "        self.name=\"noname\"\n",
    "    def superMethod(self):\n",
    "        print(\"상위 클래스의 메서드입니다.\")\n",
    "#Sup클래스를 상속받는 Sub 클래스\n",
    "class Sub(Sup):\n",
    "    #def __init__(self):\n",
    "    #    self.score=80\n",
    "    def __init__(self):\n",
    "        super().__init__()#이 작업이 무조건 필요함\n",
    "        self.score=80\n",
    "    def subMethod(self):\n",
    "        print(\"하위 클래스의 메서드입니다.\")\n",
    "#Sub의 인스턴스를 생성해서 필요한 메서드 호출\n",
    "my=Sub()\n",
    "my.superMethod()\n",
    "#Sub클래스에는 없지만, Sup를 상속받았기 때문에 호출이 가능하다.\n",
    "my.subMethod()\n",
    "print(my.name)\n",
    "#하위 클래스에서 __init__를 생성하면\n",
    "#상위 클래스의 __init__을 호출하지 않는다.\n",
    "#하위 클래스의 __init__을 만들 때에는\n",
    "#상위 클래스의 __init__을 호출해주어야 합니다."
   ]
  },
  {
   "cell_type": "code",
   "execution_count": null,
   "id": "47d99010",
   "metadata": {},
   "outputs": [],
   "source": [
    "class Sup:\n",
    "    def method(self):\n",
    "        print(\"상위 클래스의 메서드\")\n",
    "#Sup클래스를 상속받는 Sub 클래스\n",
    "class Sub(Sup):\n",
    "    #상위 클래스에 존재하는 메서드를 하위 클래스에서 \n",
    "    #다시 정의 - Overrriding\n",
    "    #상위 클래스 안써도 에러는 안나네?\n",
    "    def method(self):\n",
    "        super().method() #상위 클래스의 메서드 호출은 잊지말자 그래도\n",
    "        print(\"하위 클래스의 메서드\")\n",
    "s=Sub()\n",
    "s.method()"
   ]
  },
  {
   "cell_type": "code",
   "execution_count": null,
   "id": "0123baa7",
   "metadata": {},
   "outputs": [],
   "source": [
    "import abc\n",
    "#추상 클래스 - 자신의 인스턴스를 생성할 수 없음\n",
    "class AbstractClass(metaclass=abc.ABCMeta):\n",
    "    #추상 메서드 - 내용이 없는 메서드로 \n",
    "    #하위 클래스에서 구현해서 사용해야 합니다.\n",
    "    @abc.abstractmethod\n",
    "    def method(self):\n",
    "        pass\n",
    "class Sub(AbstractClass):\n",
    "    def __init__(self):\n",
    "        print(\"인스턴스 생성\")\n",
    "    #추상 클래스를 상속받는 경우, 추상 메서드를\n",
    "    #반드시 implementation해주어야 합니다.\n",
    "    #안해주면 에러가 납니다.\n",
    "    def method(self):\n",
    "        print(\"추상 메서드 구현\")\n",
    "#inst=AbstractClass()#인스턴스 만들 수 없어서 에러!\n",
    "#상속을 통해서만 사용해야 한다.\n",
    "instance=Sub()\n",
    "instance.method()"
   ]
  },
  {
   "cell_type": "code",
   "execution_count": null,
   "id": "5b69784b",
   "metadata": {},
   "outputs": [],
   "source": [
    "import sys\n",
    "print(sys.modules)"
   ]
  },
  {
   "cell_type": "code",
   "execution_count": null,
   "id": "113f6748",
   "metadata": {},
   "outputs": [],
   "source": [
    "sys.path"
   ]
  },
  {
   "cell_type": "code",
   "execution_count": null,
   "id": "c0a49587",
   "metadata": {},
   "outputs": [],
   "source": [
    "import myMath #myMath 모듈이나 패키지를 import \n",
    "import sys\n",
    "\n",
    "sys.path.append(\"./\")\n",
    "#현재 디렉토리에서 모듈이나 패키지를 검색하도록 설정\n",
    "myMath.func(\"모듈을 가져와서 프린트해봤어요\")\n",
    "print(myMath.myPI)"
   ]
  },
  {
   "cell_type": "code",
   "execution_count": null,
   "id": "391fd118",
   "metadata": {},
   "outputs": [],
   "source": [
    "#pip list --format=columns\n",
    "#matplotlib 이 있네요\n",
    "#없다면?\n",
    "#pip install matplotlib\n",
    "import matplotlib.pyplot as plt\n",
    "fig=plt.figure(figsize=(10,7))\n",
    "plt.boxplot(([10,87,29,76,88],[20,40,68,100,87]))\n",
    "plt.grid()\n",
    "plt.show()\n",
    "fig.savefig(\"graph.png\")\n"
   ]
  },
  {
   "cell_type": "code",
   "execution_count": null,
   "id": "0984c36a",
   "metadata": {},
   "outputs": [],
   "source": [
    "print((1234.567+45.67844)+0.0004)\n",
    "print(1234.567+(45.67844+0.0004))"
   ]
  },
  {
   "cell_type": "code",
   "execution_count": null,
   "id": "f7beef9c",
   "metadata": {},
   "outputs": [],
   "source": [
    "from decimal import Decimal\n",
    "print((Decimal('1234.567')+Decimal('45.67844'))+Decimal('0.0004'))\n",
    "print(Decimal('1234.567')+(Decimal('45.67844')+Decimal('0.0004')))"
   ]
  },
  {
   "cell_type": "code",
   "execution_count": null,
   "id": "dcb62592",
   "metadata": {},
   "outputs": [],
   "source": [
    "import random\n",
    "random.seed(42)#seed를 고정해봤어.\n",
    "#help(random.randint)\n",
    "#randint(a, b) method of random.Random instance\n",
    "#Return random integer in range [a, b], including both end points\n",
    "print(random.randint(1,45)) #seed를 고정하면 고정된 값이 나와\n",
    "print(random.randint(1,45))"
   ]
  },
  {
   "cell_type": "code",
   "execution_count": null,
   "id": "fab60405",
   "metadata": {},
   "outputs": [],
   "source": [
    "import random\n",
    "import time\n",
    "li=[\"mino\",\"mino2\",\"mino3\",\"mino2\",\"mino3\"]\n",
    "for i in range(10):\n",
    "    time.sleep(1)\n",
    "    print(li[random.randint(0,len(li)-1)])"
   ]
  },
  {
   "cell_type": "code",
   "execution_count": null,
   "id": "4d9ef489",
   "metadata": {},
   "outputs": [],
   "source": [
    "i= input(\"1부터 45까지의 정수를 공백으로 구분해서 6개 입력하세요\")\n",
    "x=i.split(\" \")\n",
    "lotto=list(map(lambda e: int(e),x))\n",
    "lotto.sort()\n",
    "print(lotto)\n",
    "cnt=0\n",
    "ar=range(1,46)\n",
    "#실행하지마 메모리터진다\n",
    "while True:\n",
    "    cnt+=1\n",
    "    gotcha=random.sample(ar,6)\n",
    "    gotcha.sort()\n",
    "    print(gotcha)\n",
    "    if (lotto==gotcha):\n",
    "        break\n",
    "    else : \n",
    "        print(\"실패!\")\n",
    "print(cnt,\"번 만에 로또에 당첨되었어요!\")"
   ]
  }
 ],
 "metadata": {
  "kernelspec": {
   "display_name": "Python 3 (ipykernel)",
   "language": "python",
   "name": "python3"
  },
  "language_info": {
   "codemirror_mode": {
    "name": "ipython",
    "version": 3
   },
   "file_extension": ".py",
   "mimetype": "text/x-python",
   "name": "python",
   "nbconvert_exporter": "python",
   "pygments_lexer": "ipython3",
   "version": "3.10.9"
  }
 },
 "nbformat": 4,
 "nbformat_minor": 5
}

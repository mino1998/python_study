{
 "cells": [
  {
   "cell_type": "code",
   "execution_count": 6,
   "id": "204ca71b",
   "metadata": {},
   "outputs": [
    {
     "name": "stdout",
     "output_type": "stream",
     "text": [
      "점수를 입력하세요 : 22\n",
      "<class 'int'>\n",
      "30\n",
      "프로그램 종료\n"
     ]
    }
   ],
   "source": [
    "#하나의 점수를 이볅받아서 60점 이상이면 합격\n",
    "#무조건 프로그램 종료라는 문구를 출력\n",
    "score=int(input(\"점수를 입력하세요 : \"))\n",
    "#실제 프로그램이라면 잘못된 입력을 할 수 있으므로 예외처리를\n",
    "#해주는 것이 좋습니다. \n",
    "print(type(score)) #정말로 문자열이 int로 바뀐건지 확인하기\n",
    "if score>=60:\n",
    "    data=30\n",
    "    print(\"합격\")\n",
    "else :\n",
    "    print(data)\n",
    "print(\"프로그램 종료\")"
   ]
  },
  {
   "cell_type": "code",
   "execution_count": 7,
   "id": "e7e7093f",
   "metadata": {},
   "outputs": [
    {
     "name": "stdout",
     "output_type": "stream",
     "text": [
      "점수를 입력해주세요59\n",
      "불합격\n",
      "프로그램종료\n"
     ]
    }
   ],
   "source": [
    "#하나의 점수를 이볅받아서 60점 이상이면 합격 아니면 불합격\n",
    "#무조건 프로그램 종료라는 문구를 출력\n",
    "\n",
    "score = int(input(\"점수를 입력해주세요\"))\n",
    "if score>=60:\n",
    "    print(\"합격\")\n",
    "else: \n",
    "    print(\"불합격\")\n",
    "print(\"프로그램종료\")"
   ]
  },
  {
   "cell_type": "code",
   "execution_count": 14,
   "id": "1c4a1233",
   "metadata": {},
   "outputs": [
    {
     "name": "stdout",
     "output_type": "stream",
     "text": [
      "점수를 입력해주세요12.5\n"
     ]
    },
    {
     "ename": "ValueError",
     "evalue": "invalid literal for int() with base 10: '12.5'",
     "output_type": "error",
     "traceback": [
      "\u001b[1;31m---------------------------------------------------------------------------\u001b[0m",
      "\u001b[1;31mValueError\u001b[0m                                Traceback (most recent call last)",
      "Cell \u001b[1;32mIn[14], line 8\u001b[0m\n\u001b[0;32m      1\u001b[0m \u001b[38;5;124;03m\"\"\"\u001b[39;00m\n\u001b[0;32m      2\u001b[0m \u001b[38;5;124;03m90에서 100사이이면 A\u001b[39;00m\n\u001b[0;32m      3\u001b[0m \u001b[38;5;124;03m80에서 89사이이면 B\u001b[39;00m\n\u001b[1;32m   (...)\u001b[0m\n\u001b[0;32m      6\u001b[0m \u001b[38;5;124;03m0에서 59사이면 F\u001b[39;00m\n\u001b[0;32m      7\u001b[0m \u001b[38;5;124;03m\"\"\"\u001b[39;00m\n\u001b[1;32m----> 8\u001b[0m score \u001b[38;5;241m=\u001b[39m \u001b[38;5;28;43mint\u001b[39;49m\u001b[43m(\u001b[49m\u001b[38;5;28;43minput\u001b[39;49m\u001b[43m(\u001b[49m\u001b[38;5;124;43m\"\u001b[39;49m\u001b[38;5;124;43m점수를 입력해주세요\u001b[39;49m\u001b[38;5;124;43m\"\u001b[39;49m\u001b[43m)\u001b[49m\u001b[43m)\u001b[49m\n\u001b[0;32m      9\u001b[0m \u001b[38;5;28;01mif\u001b[39;00m score\u001b[38;5;241m>\u001b[39m\u001b[38;5;241m=\u001b[39m\u001b[38;5;241m90\u001b[39m \u001b[38;5;129;01mand\u001b[39;00m score\u001b[38;5;241m<\u001b[39m\u001b[38;5;241m=\u001b[39m\u001b[38;5;241m100\u001b[39m:\n\u001b[0;32m     10\u001b[0m     \u001b[38;5;28mprint\u001b[39m(\u001b[38;5;124m\"\u001b[39m\u001b[38;5;124mA\u001b[39m\u001b[38;5;124m\"\u001b[39m)\n",
      "\u001b[1;31mValueError\u001b[0m: invalid literal for int() with base 10: '12.5'"
     ]
    }
   ],
   "source": [
    "\"\"\"\n",
    "90에서 100사이이면 A\n",
    "80에서 89사이이면 B\n",
    "70에서 79사이이면 C\n",
    "60에서 69사이이면 D\n",
    "0에서 59사이면 F\n",
    "\"\"\"\n",
    "score = int(input(\"점수를 입력해주세요\"))\n",
    "#int 형변환은 문자열이 int 형태의 친구라면 int로\n",
    "#하지만 다른 실수나 그러면 못해줌\n",
    "#물론 int형인 실수를 정수형으로는 바꿀 수 있음\n",
    "if score>=90 and score<=100:\n",
    "    print(\"A\")\n",
    "elif score>=80 and score<=89:\n",
    "    print(\"B\") \n",
    "elif score>=70 and score<=79:\n",
    "    print(\"C\") \n",
    "elif score>=60 and score<=69:\n",
    "    print(\"D\") \n",
    "elif score>=0 and score<=59:\n",
    "    print(\"F\")\n",
    "else : #사용자의 입력은 랜덤하기에 제약을 주는 용도로 사용하자.\n",
    "    print(\"잘못된 점수 입력입니다.\") "
   ]
  },
  {
   "cell_type": "code",
   "execution_count": 11,
   "id": "b1b84bd2",
   "metadata": {},
   "outputs": [
    {
     "ename": "KeyboardInterrupt",
     "evalue": "Interrupted by user",
     "output_type": "error",
     "traceback": [
      "\u001b[1;31m---------------------------------------------------------------------------\u001b[0m",
      "\u001b[1;31mKeyboardInterrupt\u001b[0m                         Traceback (most recent call last)",
      "Cell \u001b[1;32mIn[11], line 1\u001b[0m\n\u001b[1;32m----> 1\u001b[0m score \u001b[38;5;241m=\u001b[39m \u001b[38;5;28mint\u001b[39m(\u001b[38;5;28;43minput\u001b[39;49m\u001b[43m(\u001b[49m\u001b[38;5;124;43m\"\u001b[39;49m\u001b[38;5;124;43m점수를 입력해주세요\u001b[39;49m\u001b[38;5;124;43m\"\u001b[39;49m\u001b[43m)\u001b[49m)\n\u001b[0;32m      2\u001b[0m \u001b[38;5;28;01mif\u001b[39;00m score:\n\u001b[0;32m      3\u001b[0m     \u001b[38;5;28mprint\u001b[39m(score)\n",
      "File \u001b[1;32m~\\anaconda3\\lib\\site-packages\\ipykernel\\kernelbase.py:1175\u001b[0m, in \u001b[0;36mKernel.raw_input\u001b[1;34m(self, prompt)\u001b[0m\n\u001b[0;32m   1171\u001b[0m \u001b[38;5;28;01mif\u001b[39;00m \u001b[38;5;129;01mnot\u001b[39;00m \u001b[38;5;28mself\u001b[39m\u001b[38;5;241m.\u001b[39m_allow_stdin:\n\u001b[0;32m   1172\u001b[0m     \u001b[38;5;28;01mraise\u001b[39;00m StdinNotImplementedError(\n\u001b[0;32m   1173\u001b[0m         \u001b[38;5;124m\"\u001b[39m\u001b[38;5;124mraw_input was called, but this frontend does not support input requests.\u001b[39m\u001b[38;5;124m\"\u001b[39m\n\u001b[0;32m   1174\u001b[0m     )\n\u001b[1;32m-> 1175\u001b[0m \u001b[38;5;28;01mreturn\u001b[39;00m \u001b[38;5;28;43mself\u001b[39;49m\u001b[38;5;241;43m.\u001b[39;49m\u001b[43m_input_request\u001b[49m\u001b[43m(\u001b[49m\n\u001b[0;32m   1176\u001b[0m \u001b[43m    \u001b[49m\u001b[38;5;28;43mstr\u001b[39;49m\u001b[43m(\u001b[49m\u001b[43mprompt\u001b[49m\u001b[43m)\u001b[49m\u001b[43m,\u001b[49m\n\u001b[0;32m   1177\u001b[0m \u001b[43m    \u001b[49m\u001b[38;5;28;43mself\u001b[39;49m\u001b[38;5;241;43m.\u001b[39;49m\u001b[43m_parent_ident\u001b[49m\u001b[43m[\u001b[49m\u001b[38;5;124;43m\"\u001b[39;49m\u001b[38;5;124;43mshell\u001b[39;49m\u001b[38;5;124;43m\"\u001b[39;49m\u001b[43m]\u001b[49m\u001b[43m,\u001b[49m\n\u001b[0;32m   1178\u001b[0m \u001b[43m    \u001b[49m\u001b[38;5;28;43mself\u001b[39;49m\u001b[38;5;241;43m.\u001b[39;49m\u001b[43mget_parent\u001b[49m\u001b[43m(\u001b[49m\u001b[38;5;124;43m\"\u001b[39;49m\u001b[38;5;124;43mshell\u001b[39;49m\u001b[38;5;124;43m\"\u001b[39;49m\u001b[43m)\u001b[49m\u001b[43m,\u001b[49m\n\u001b[0;32m   1179\u001b[0m \u001b[43m    \u001b[49m\u001b[43mpassword\u001b[49m\u001b[38;5;241;43m=\u001b[39;49m\u001b[38;5;28;43;01mFalse\u001b[39;49;00m\u001b[43m,\u001b[49m\n\u001b[0;32m   1180\u001b[0m \u001b[43m\u001b[49m\u001b[43m)\u001b[49m\n",
      "File \u001b[1;32m~\\anaconda3\\lib\\site-packages\\ipykernel\\kernelbase.py:1217\u001b[0m, in \u001b[0;36mKernel._input_request\u001b[1;34m(self, prompt, ident, parent, password)\u001b[0m\n\u001b[0;32m   1214\u001b[0m             \u001b[38;5;28;01mbreak\u001b[39;00m\n\u001b[0;32m   1215\u001b[0m \u001b[38;5;28;01mexcept\u001b[39;00m \u001b[38;5;167;01mKeyboardInterrupt\u001b[39;00m:\n\u001b[0;32m   1216\u001b[0m     \u001b[38;5;66;03m# re-raise KeyboardInterrupt, to truncate traceback\u001b[39;00m\n\u001b[1;32m-> 1217\u001b[0m     \u001b[38;5;28;01mraise\u001b[39;00m \u001b[38;5;167;01mKeyboardInterrupt\u001b[39;00m(\u001b[38;5;124m\"\u001b[39m\u001b[38;5;124mInterrupted by user\u001b[39m\u001b[38;5;124m\"\u001b[39m) \u001b[38;5;28;01mfrom\u001b[39;00m \u001b[38;5;28mNone\u001b[39m\n\u001b[0;32m   1218\u001b[0m \u001b[38;5;28;01mexcept\u001b[39;00m \u001b[38;5;167;01mException\u001b[39;00m:\n\u001b[0;32m   1219\u001b[0m     \u001b[38;5;28mself\u001b[39m\u001b[38;5;241m.\u001b[39mlog\u001b[38;5;241m.\u001b[39mwarning(\u001b[38;5;124m\"\u001b[39m\u001b[38;5;124mInvalid Message:\u001b[39m\u001b[38;5;124m\"\u001b[39m, exc_info\u001b[38;5;241m=\u001b[39m\u001b[38;5;28;01mTrue\u001b[39;00m)\n",
      "\u001b[1;31mKeyboardInterrupt\u001b[0m: Interrupted by user"
     ]
    }
   ],
   "source": [
    "score = int(input(\"점수를 입력해주세요\"))\n",
    "#score=[] #데이터가 없는 모임도 Falsy\n",
    "if score:\n",
    "    print(score)\n",
    "else : \n",
    "    print(\"0을 입력했습니다.\")"
   ]
  },
  {
   "cell_type": "code",
   "execution_count": 16,
   "id": "54a4c689",
   "metadata": {},
   "outputs": [
    {
     "name": "stdout",
     "output_type": "stream",
     "text": [
      "0에서 6까지의 숫자를 입력하세요3\n",
      "수요일\n",
      "수요일\n"
     ]
    }
   ],
   "source": [
    "# 0 이면 일요일, 1이면 월요일, .... 6이면 토요일 을 출력하자\n",
    "dayDict={0:\"일요일\", 1:\"월요일\", 2:\"화요일\", 3:\"수요일\", 4:\"목요일\", 5:\"금요일\", 6:\"토요일\"}\n",
    "day=int(input(\"0에서 6까지의 숫자를 입력하세요\"))\n",
    "if day>=0 and day<=6:\n",
    "    # 원래 dict쓸 때 이것도 가능하다. 하지만 잘 안쓴다.(없는 값 넣으면 에러)\n",
    "    print(dayDict[day]) \n",
    "else:\n",
    "    print(\"잘못된 입력입니다.\")\n",
    "# get을 쓰자. 한 번에 끝난다.\n",
    "print(dayDict.get(day, \"알 수 없는 요일\"))    "
   ]
  },
  {
   "cell_type": "code",
   "execution_count": 21,
   "id": "ae2db36a",
   "metadata": {},
   "outputs": [
    {
     "name": "stdout",
     "output_type": "stream",
     "text": [
      "0\n",
      "1\n",
      "2\n",
      "3\n",
      "4\n",
      "5\n",
      "6\n",
      "7\n",
      "8\n",
      "9\n",
      "반복문 종료\n",
      "10\n"
     ]
    }
   ],
   "source": [
    "idx=0\n",
    "\n",
    "while idx<10:\n",
    "    print(idx)\n",
    "    idx+=1\n",
    "    #if idx>5:#이게 수행되면 else사용 x\n",
    "    #   break\n",
    "else:\n",
    "    print(\"반복문 종료\") \n",
    "print(idx)"
   ]
  },
  {
   "cell_type": "code",
   "execution_count": 26,
   "id": "985bf315",
   "metadata": {},
   "outputs": [
    {
     "name": "stdout",
     "output_type": "stream",
     "text": [
      "key1\n",
      "key2\n"
     ]
    }
   ],
   "source": [
    "string=\"HelloWorld\"\n",
    "ar=[10,20]\n",
    "row=(100,200)#tuple\n",
    "s={1000,2000} #set\n",
    "dic={\"key1\":\"value1\",\"key2\":\"value2\"} #dict\n",
    "\n",
    "for i in dic :\n",
    "    print(i) #dict는 key값이 나오네?"
   ]
  },
  {
   "cell_type": "code",
   "execution_count": 46,
   "id": "b0a761c0",
   "metadata": {},
   "outputs": [
    {
     "name": "stdout",
     "output_type": "stream",
     "text": [
      "뉴스의 총 개수를 적어주세요 :127\n",
      "리스트에 적을 수 있는 뉴스의 최대 개수를 적어주세요 : 15\n",
      "['http://www.donga.com/news/search?p=1', 'http://www.donga.com/news/search?p=16', 'http://www.donga.com/news/search?p=31', 'http://www.donga.com/news/search?p=46', 'http://www.donga.com/news/search?p=61', 'http://www.donga.com/news/search?p=76', 'http://www.donga.com/news/search?p=91', 'http://www.donga.com/news/search?p=106', 'http://www.donga.com/news/search?p=121']\n"
     ]
    }
   ],
   "source": [
    "news=\"http://www.donga.com/news/search?p=\"\n",
    "newsList=[]\n",
    "newsCnt=int(input(\"뉴스의 총 개수를 적어주세요 :\"))\n",
    "listLength=int(input(\"리스트에 적을 수 있는 뉴스의 최대 개수를 적어주세요 : \"))\n",
    "pagenum=int((newsCnt/listLength)+1)\n",
    "for i in range(1,pagenum+1):\n",
    "    newsList.append(news+str((i-1)*15+1))\n",
    "print(newsList)\n",
    "\n",
    "\n",
    "\n",
    "\n",
    "#for i in range(1,32,15):\n",
    "#    print(\"http://www.donga.com/news/search?p=\",i,sep=\"\")\n",
    "#for i in range(3):\n",
    "#    print(\"http://www.donga.com/news/search?p=\",(i*15)+1,sep=\"\")\n",
    "#for i in range(3):\n",
    "#    q=\"http://www.donga.com/news/search?p=\"+str((i*15)+1)\n",
    "#    print(q)"
   ]
  },
  {
   "cell_type": "code",
   "execution_count": 52,
   "id": "3417a5cb",
   "metadata": {},
   "outputs": [
    {
     "name": "stdout",
     "output_type": "stream",
     "text": [
      "*\n",
      "**\n",
      "***\n",
      "**\n",
      "*\n"
     ]
    }
   ],
   "source": [
    "for i in range(5):\n",
    "    if(i<3):\n",
    "        for j in range(i+1):\n",
    "            print(\"*\", end=\"\")\n",
    "    else:\n",
    "        for j in range(5-i):\n",
    "            print(\"*\", end=\"\")\n",
    "    print()"
   ]
  },
  {
   "cell_type": "code",
   "execution_count": 65,
   "id": "f0620aef",
   "metadata": {},
   "outputs": [
    {
     "name": "stdout",
     "output_type": "stream",
     "text": [
      "[6, 28, 496]\n",
      "3\n"
     ]
    }
   ],
   "source": [
    "#2 부터 100까지 완전수의 개수 \n",
    "#완전수 : 자신을 제외한 약수의 합이 자신과 같다.\n",
    "perfectNum=[]\n",
    "startNum=2\n",
    "endNum=1000\n",
    "for i in range(startNum,endNum+1):\n",
    "    divisorSum=1 #1은 모든 수의 약수이기에\n",
    "    for j in range(2,i//2+1):#2부터 하자 \n",
    "        #자기보다 절반보다 큰 숫자가 약수가 될 확률\n",
    "        #+1을 해줘야지 i//2까지 가겠지\n",
    "        if(i%j==0):\n",
    "            divisorSum+=j\n",
    "    if(i==divisorSum):\n",
    "        perfectNum.append(i)\n",
    "print(perfectNum)\n",
    "print(len(perfectNum))"
   ]
  },
  {
   "cell_type": "code",
   "execution_count": 125,
   "id": "d1fbae2b",
   "metadata": {},
   "outputs": [
    {
     "name": "stdout",
     "output_type": "stream",
     "text": [
      "구하고자 하는 피보나치 수열의 값은?100\n",
      "fibonacci 리스트를 확인하면 : 354224848179261915075\n",
      "fibo함수를 사용하면 : 354224848179261915075\n",
      "강사님이 생각한 함수를 사용하면 : 354224848179261915075\n"
     ]
    }
   ],
   "source": [
    "# 피보나치 수열\n",
    "# 첫 번째와 두 번쨰 데이터는 1\n",
    "# 세 번째 데이터부터는 앞의 2개의 합\n",
    "import functools\n",
    "@functools.lru_cache()\n",
    "\n",
    "def fibo(n:int)->int:\n",
    "    if n==1 or n==2:\n",
    "        return 1\n",
    "    return fibo(n-2)+fibo(n-1)\n",
    "    \n",
    "#강사님이 알려주신 것\n",
    "def prof_fibo(n):\n",
    "    if n==1 or n==2:\n",
    "        return 1\n",
    "    else:\n",
    "        n_1=1 #직전항\n",
    "        n_2=1 # 두번쨰 앞의 항\n",
    "        result=0 #실제 결과\n",
    "        for i in range(3,n+1):\n",
    "            result=n_1+n_2\n",
    "            n_2=n_1\n",
    "            n_1=result\n",
    "        return result\n",
    "    \n",
    "idx=int(input(\"구하고자 하는 피보나치 수열의 값은?\"))\n",
    "print(\"fibonacci 리스트를 확인하면 : \"+str(fibonacci[idx-1]))\n",
    "print(\"fibo함수를 사용하면 : \"+str(fibo(idx)))\n",
    "print(\"강사님이 생각한 함수를 사용하면 : \"+str(prof_fibo(idx)))\n"
   ]
  },
  {
   "cell_type": "code",
   "execution_count": 123,
   "id": "c5f2f783",
   "metadata": {},
   "outputs": [
    {
     "name": "stdout",
     "output_type": "stream",
     "text": [
      "[1, 1, 2, 3, 5, 8, 13, 21, 34, 55, 89, 144, 233, 377, 610, 987, 1597, 2584, 4181, 6765, 10946, 17711, 28657, 46368, 75025, 121393, 196418, 317811, 514229, 832040, 1346269, 2178309, 3524578, 5702887, 9227465, 14930352, 24157817, 39088169, 63245986, 102334155, 165580141, 267914296, 433494437, 701408733, 1134903170, 1836311903, 2971215073, 4807526976, 7778742049, 12586269025, 20365011074, 32951280099, 53316291173, 86267571272, 139583862445, 225851433717, 365435296162, 591286729879, 956722026041, 1548008755920, 2504730781961, 4052739537881, 6557470319842, 10610209857723, 17167680177565, 27777890035288, 44945570212853, 72723460248141, 117669030460994, 190392490709135, 308061521170129, 498454011879264, 806515533049393, 1304969544928657, 2111485077978050, 3416454622906707, 5527939700884757, 8944394323791464, 14472334024676221, 23416728348467685, 37889062373143906, 61305790721611591, 99194853094755497, 160500643816367088, 259695496911122585, 420196140727489673, 679891637638612258, 1100087778366101931, 1779979416004714189, 2880067194370816120, 4660046610375530309, 7540113804746346429, 12200160415121876738, 19740274219868223167, 31940434634990099905, 51680708854858323072, 83621143489848422977, 135301852344706746049, 218922995834555169026, 354224848179261915075]\n"
     ]
    }
   ],
   "source": [
    "fibonacci=[1,1]\n",
    "n=100\n",
    "for i in range(2,n):\n",
    "        fibonacci.append(fibonacci[i-2]+fibonacci[i-1])\n",
    "print(fibonacci)"
   ]
  },
  {
   "cell_type": "code",
   "execution_count": 85,
   "id": "51c2f415",
   "metadata": {},
   "outputs": [
    {
     "name": "stdout",
     "output_type": "stream",
     "text": [
      "hello python\n",
      "hello python\n",
      "hello java\n",
      "hello java\n",
      "hello python\n",
      "hello python\n",
      "hello python\n",
      "hello R\n",
      "hello R\n",
      "hello R\n",
      "hello R\n",
      "hello R\n",
      "<function whoR at 0x0000021604264700>\n"
     ]
    }
   ],
   "source": [
    "#hello python을 2번 출력\n",
    "#hello java를 2번 출력\n",
    "print(\"hello python\")\n",
    "print(\"hello python\")\n",
    "print(\"hello java\")\n",
    "print(\"hello java\")\n",
    "#횟수 및 변수를 바꾸려면 싹 바꿔야 하는 불편함이 있다.\n",
    "for i in range(3):\n",
    "    print(\"hello python\")\n",
    "def whoR(name,n):\n",
    "    for i in range(n):\n",
    "        print(\"hello\",str(name))\n",
    "whoR(\"R\", 5)\n",
    "print(whoR)"
   ]
  },
  {
   "cell_type": "code",
   "execution_count": 90,
   "id": "80e99397",
   "metadata": {},
   "outputs": [
    {
     "name": "stdout",
     "output_type": "stream",
     "text": [
      "Help on built-in function sorted in module builtins:\n",
      "\n",
      "sorted(iterable, /, *, key=None, reverse=False)\n",
      "    Return a new list containing all items from the iterable in ascending order.\n",
      "    \n",
      "    A custom key function can be supplied to customize the sort order, and the\n",
      "    reverse flag can be set to request the result in descending order.\n",
      "\n"
     ]
    }
   ],
   "source": [
    "help(sorted)"
   ]
  },
  {
   "cell_type": "code",
   "execution_count": 94,
   "id": "9567c783",
   "metadata": {},
   "outputs": [
    {
     "name": "stdout",
     "output_type": "stream",
     "text": [
      "20\n",
      "30\n"
     ]
    }
   ],
   "source": [
    "def callByValue(a:int)->None:\n",
    "    a=20\n",
    "    print(a)\n",
    "x=30\n",
    "callByValue(x)\n",
    "print(x)"
   ]
  },
  {
   "cell_type": "code",
   "execution_count": 96,
   "id": "8ba74d8b",
   "metadata": {},
   "outputs": [
    {
     "name": "stdout",
     "output_type": "stream",
     "text": [
      "[20, 200, 300]\n",
      "[20, 200, 300]\n"
     ]
    }
   ],
   "source": [
    "def callByReference(li:list)->None:\n",
    "    li[0]=20\n",
    "    print(li)\n",
    "l=[100,200,300]\n",
    "callByReference(l)\n",
    "print(l)"
   ]
  },
  {
   "cell_type": "code",
   "execution_count": 104,
   "id": "feafb9d2",
   "metadata": {},
   "outputs": [
    {
     "name": "stdout",
     "output_type": "stream",
     "text": [
      "10\n",
      "<class 'int'>\n",
      "<class 'tuple'>\n",
      "[1, 23, 4, 5]\n",
      "<class 'list'>\n",
      "<class 'tuple'>\n",
      "[1, 2]\n",
      "<class 'list'>\n",
      "[3, 4]\n",
      "<class 'list'>\n",
      "(5, 6)\n",
      "<class 'tuple'>\n",
      "7\n",
      "<class 'int'>\n",
      "<class 'tuple'>\n"
     ]
    }
   ],
   "source": [
    "#가변 매개변수 사용하기\n",
    "#함수 내부에서는 튜플로 음...\n",
    "def merge(*li):\n",
    "    for element in li:\n",
    "        print(element)\n",
    "        print(type(element))\n",
    "    print(type(li))\n",
    "merge(10)\n",
    "merge([1,23,4,5])\n",
    "merge([1,2],[3,4],(5,6),7)"
   ]
  },
  {
   "cell_type": "code",
   "execution_count": 105,
   "id": "ddcb8d96",
   "metadata": {},
   "outputs": [
    {
     "name": "stdout",
     "output_type": "stream",
     "text": [
      "job student\n",
      "gender 남자\n"
     ]
    }
   ],
   "source": [
    "def merge(name, **param):\n",
    "    for k in param:\n",
    "        print(k,param[k])\n",
    "merge(name=\"mino\", job=\"student\", gender=\"남자\")"
   ]
  },
  {
   "cell_type": "code",
   "execution_count": 108,
   "id": "b8f9ead2",
   "metadata": {},
   "outputs": [
    {
     "ename": "TypeError",
     "evalue": "merge() missing 1 required keyword-only argument: 'age'",
     "output_type": "error",
     "traceback": [
      "\u001b[1;31m---------------------------------------------------------------------------\u001b[0m",
      "\u001b[1;31mTypeError\u001b[0m                                 Traceback (most recent call last)",
      "Cell \u001b[1;32mIn[108], line 4\u001b[0m\n\u001b[0;32m      2\u001b[0m     \u001b[38;5;28;01mfor\u001b[39;00m element \u001b[38;5;129;01min\u001b[39;00m li:\n\u001b[0;32m      3\u001b[0m         \u001b[38;5;28mprint\u001b[39m(element)\n\u001b[1;32m----> 4\u001b[0m \u001b[43mmerge\u001b[49m\u001b[43m(\u001b[49m\u001b[38;5;124;43m\"\u001b[39;49m\u001b[38;5;124;43mmino\u001b[39;49m\u001b[38;5;124;43m\"\u001b[39;49m\u001b[43m,\u001b[49m\u001b[43m \u001b[49m\u001b[38;5;241;43m10\u001b[39;49m\u001b[43m,\u001b[49m\u001b[43m \u001b[49m\u001b[38;5;241;43m20\u001b[39;49m\u001b[43m,\u001b[49m\u001b[43m \u001b[49m\u001b[38;5;241;43m30\u001b[39;49m\u001b[43m,\u001b[49m\u001b[43m \u001b[49m\u001b[38;5;241;43m26\u001b[39;49m\u001b[43m)\u001b[49m\n",
      "\u001b[1;31mTypeError\u001b[0m: merge() missing 1 required keyword-only argument: 'age'"
     ]
    }
   ],
   "source": []
  }
 ],
 "metadata": {
  "kernelspec": {
   "display_name": "Python 3 (ipykernel)",
   "language": "python",
   "name": "python3"
  },
  "language_info": {
   "codemirror_mode": {
    "name": "ipython",
    "version": 3
   },
   "file_extension": ".py",
   "mimetype": "text/x-python",
   "name": "python",
   "nbconvert_exporter": "python",
   "pygments_lexer": "ipython3",
   "version": "3.10.9"
  }
 },
 "nbformat": 4,
 "nbformat_minor": 5
}

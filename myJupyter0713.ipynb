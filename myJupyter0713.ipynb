{
 "cells": [
  {
   "cell_type": "code",
   "execution_count": 1,
   "id": "cc3e9fe8",
   "metadata": {},
   "outputs": [
    {
     "name": "stdout",
     "output_type": "stream",
     "text": [
      "hello World!\n",
      "hello Worl\n",
      "!dlroW olleh\n"
     ]
    }
   ],
   "source": [
    "msg=\"hello World!\"\n",
    "print(msg[::])#전체\n",
    "print(msg[:-2:])#뒤에서 두번째 앞까지\n",
    "print(msg[::-1])#반대로 "
   ]
  },
  {
   "cell_type": "code",
   "execution_count": 2,
   "id": "b8657b45",
   "metadata": {},
   "outputs": [
    {
     "ename": "TypeError",
     "evalue": "'str' object does not support item assignment",
     "output_type": "error",
     "traceback": [
      "\u001b[1;31m---------------------------------------------------------------------------\u001b[0m",
      "\u001b[1;31mTypeError\u001b[0m                                 Traceback (most recent call last)",
      "Cell \u001b[1;32mIn[2], line 2\u001b[0m\n\u001b[0;32m      1\u001b[0m msg\u001b[38;5;241m=\u001b[39m\u001b[38;5;124m\"\u001b[39m\u001b[38;5;124mhello\u001b[39m\u001b[38;5;124m\"\u001b[39m\n\u001b[1;32m----> 2\u001b[0m msg[\u001b[38;5;241m1\u001b[39m]\u001b[38;5;241m=\u001b[39m\u001b[38;5;124m\"\u001b[39m\u001b[38;5;124mH\u001b[39m\u001b[38;5;124m\"\u001b[39m\n",
      "\u001b[1;31mTypeError\u001b[0m: 'str' object does not support item assignment"
     ]
    }
   ],
   "source": [
    "msg=\"hello\"\n",
    "msg[1]=\"H\""
   ]
  },
  {
   "cell_type": "code",
   "execution_count": 5,
   "id": "0765641a",
   "metadata": {},
   "outputs": [
    {
     "data": {
      "text/plain": [
       "'e'"
      ]
     },
     "execution_count": 5,
     "metadata": {},
     "output_type": "execute_result"
    }
   ],
   "source": [
    "msg=\"hello\"\n",
    "msg[1]"
   ]
  },
  {
   "cell_type": "code",
   "execution_count": null,
   "id": "2bd47c38",
   "metadata": {},
   "outputs": [],
   "source": [
    "prob=\"DFJEIOWRCGGCJFKGCCGCCGEIRJGCCG\"\n",
    "#GCCG가 어느 인덱스에서 시작하는지\n",
    "#한번 포함된 문자는 빼고 찾아야 합니다.\n",
    "#즉 중첩되면 후자는 빼야 합니다.\n"
   ]
  },
  {
   "cell_type": "code",
   "execution_count": 8,
   "id": "611fa1b2",
   "metadata": {},
   "outputs": [
    {
     "name": "stdout",
     "output_type": "stream",
     "text": [
      "3\n"
     ]
    }
   ],
   "source": [
    "se=\"helloilp\"\n",
    "print(se.find(\"loi\"))"
   ]
  },
  {
   "cell_type": "code",
   "execution_count": 13,
   "id": "74897d1d",
   "metadata": {},
   "outputs": [
    {
     "name": "stdout",
     "output_type": "stream",
     "text": [
      "cp949\n",
      "UTF-8\n",
      "b'\\xed\\x95\\x9c\\xea\\xb8\\x80'\n",
      "한글\n",
      "97 54620\n"
     ]
    }
   ],
   "source": [
    "import sys\n",
    "#현재 시스템의 인코딩 확인\n",
    "print(sys.stdin.encoding)\n",
    "print(sys.stdout.encoding)\n",
    "#문자열을 바이트코드로 변환\n",
    "print(\"한글\".encode())\n",
    "print(\"한글\".encode().decode())\n",
    "#문자 자체의 코드값\n",
    "print(ord(\"a\"), ord(\"한\"))"
   ]
  },
  {
   "cell_type": "code",
   "execution_count": 14,
   "id": "0db580b2",
   "metadata": {},
   "outputs": [
    {
     "name": "stdout",
     "output_type": "stream",
     "text": [
      "Help on method_descriptor:\n",
      "\n",
      "split(self, /, sep=None, maxsplit=-1)\n",
      "    Return a list of the substrings in the string, using sep as the separator string.\n",
      "    \n",
      "      sep\n",
      "        The separator used to split the string.\n",
      "    \n",
      "        When set to None (the default value), will split on any whitespace\n",
      "        character (including \\\\n \\\\r \\\\t \\\\f and spaces) and will discard\n",
      "        empty strings from the result.\n",
      "      maxsplit\n",
      "        Maximum number of splits (starting from the left).\n",
      "        -1 (the default value) means no limit.\n",
      "    \n",
      "    Note, str.split() is mainly useful for data that has been intentionally\n",
      "    delimited.  With natural text that includes punctuation, consider using\n",
      "    the regular expression module.\n",
      "\n"
     ]
    }
   ],
   "source": [
    "help(str.split)"
   ]
  },
  {
   "cell_type": "code",
   "execution_count": 20,
   "id": "8dcaa2c3",
   "metadata": {},
   "outputs": [
    {
     "name": "stdout",
     "output_type": "stream",
     "text": [
      "lg,cns , samsung,sds\n",
      "True\n",
      "True\n",
      "False\n",
      "False\n"
     ]
    }
   ],
   "source": [
    "import re\n",
    "#: 이나 |를 , 로 지환\n",
    "test=\"lg:cns | samsung:sds\"\n",
    "result=re.sub(\"[:,|]\",\",\",test)\n",
    "print(result)\n",
    "#유효한이메일인지 검사\n",
    "p=re.compile('^[a-zA-Z0-9+-\\_.]+@[a-zA-Z0-9-]+\\.[a-zA-Z0-9-.]+$')\n",
    "emails=[\"mhlee5894@gmail.com\", \"mhle29@jfc.com\", \"com.@mhlee\", \"mhlee.com@gmail\"]\n",
    "for email in emails:\n",
    "    print(p.match(email)!=None)"
   ]
  },
  {
   "cell_type": "code",
   "execution_count": 21,
   "id": "80f95036",
   "metadata": {},
   "outputs": [
    {
     "name": "stdout",
     "output_type": "stream",
     "text": [
      "Help on method_descriptor:\n",
      "\n",
      "replace(self, old, new, count=-1, /)\n",
      "    Return a copy with all occurrences of substring old replaced by new.\n",
      "    \n",
      "      count\n",
      "        Maximum number of occurrences to replace.\n",
      "        -1 (the default value) means replace all occurrences.\n",
      "    \n",
      "    If the optional argument count is given, only the first count occurrences are\n",
      "    replaced.\n",
      "\n"
     ]
    }
   ],
   "source": [
    "help(str.replace)"
   ]
  },
  {
   "cell_type": "code",
   "execution_count": 27,
   "id": "42e03de9",
   "metadata": {},
   "outputs": [
    {
     "name": "stdout",
     "output_type": "stream",
     "text": [
      "python\n",
      "['hello']\n",
      "[]\n",
      "hello\n",
      "world!\n",
      "python\n",
      "['Hello', 'ai', 'bravo', 'charli', 'zulu']\n",
      "['zulu', 'charli', 'bravo', 'ai', 'Hello']\n",
      "['Hello', 'ai', 'bravo', 'charli', 'zulu']\n",
      "['ai', 'bravo', 'charli', 'Hello', 'zulu']\n"
     ]
    }
   ],
   "source": [
    "#list의 메서드 활용\n",
    "li1=[]\n",
    "li2=list(range(10))\n",
    "li3=[\"hello\",\"world!\"]\n",
    "#data 추가\n",
    "li1.append(\"append data\")\n",
    "li3.append(\"python\")\n",
    "#한 개 데이터 출력\n",
    "print(li3[2])\n",
    "#슬라이싱 - 범위를 가지고 추출\n",
    "print(li3[0:1])\n",
    "#data 삭제\n",
    "del li1[0]\n",
    "print(li1)\n",
    "#data 순회\n",
    "for i in li3:\n",
    "    print(i)\n",
    "#list 정렬\n",
    "li=[\"Hello\", \"ai\", \"bravo\",\"zulu\", \"charli\"]\n",
    "li.sort()#오름차순 정렬\n",
    "print(li)\n",
    "li.sort(reverse=True)#내림차순 정렬\n",
    "print(li)\n",
    "result=sorted(li)\n",
    "print(result)\n",
    "#영문 대소문자 구분없지 정렬\n",
    "li.sort(key=str.lower)\n",
    "print(li)"
   ]
  },
  {
   "cell_type": "code",
   "execution_count": 31,
   "id": "a0a22f8f",
   "metadata": {},
   "outputs": [
    {
     "name": "stdout",
     "output_type": "stream",
     "text": [
      "('mino', 'student', 26)\n",
      "student\n",
      "student\n",
      "20 10\n"
     ]
    }
   ],
   "source": [
    "record =(\"mino\", \"student\", 26) # 튜플 생성\n",
    "print(record)\n",
    "print(record[1]) # 인덱싱 가능\n",
    "#record[0]=\"mino2\" # 수정 불가능\n",
    "#list와 tuple은 unpacking 가능\n",
    "name, job, age=record\n",
    "print(job)\n",
    "*etc, age=record # *을 이용하면 나머지 모두를 리스트로 생성\n",
    "# 1개짜리도 *을 받으면 리스트로 만든다.\n",
    "#swap : 2개의 데이터의 값을 치환하는 것\n",
    "#python은 정말 쉽다\n",
    "a=10\n",
    "b=20\n",
    "a,b=b,a\n",
    "print(a,b)"
   ]
  },
  {
   "cell_type": "code",
   "execution_count": 40,
   "id": "92124213",
   "metadata": {},
   "outputs": [
    {
     "name": "stdout",
     "output_type": "stream",
     "text": [
      "mino\n",
      "mino2\n",
      "mino\n",
      "mino2\n"
     ]
    }
   ],
   "source": [
    "#테이블 구조의 데이터를 생성\n",
    "data=[(\"mino\", '010'),(\"mino2\",\"016\")]\n",
    "#이름만 출력\n",
    "for row in data:\n",
    "    print(row[0])\n",
    "#컬럼에 이름을 사용하는 튜플\n",
    "from collections import namedtuple\n",
    "#자료구조 생성 - 튜플의 각 컬럼 이름 만들기\n",
    "Person=namedtuple(\"Person\",[\"person_name\", \"mobile\"])\n",
    "Persons=[Person(\"mino\",\"010\"),Person(\"mino2\",\"016\")]\n",
    "for person in Persons :\n",
    "    print(person.person_name)"
   ]
  },
  {
   "cell_type": "code",
   "execution_count": 39,
   "id": "284db79d",
   "metadata": {},
   "outputs": [
    {
     "name": "stdout",
     "output_type": "stream",
     "text": [
      "Help on function namedtuple in module collections:\n",
      "\n",
      "namedtuple(typename, field_names, *, rename=False, defaults=None, module=None)\n",
      "    Returns a new subclass of tuple with named fields.\n",
      "    \n",
      "    >>> Point = namedtuple('Point', ['x', 'y'])\n",
      "    >>> Point.__doc__                   # docstring for the new class\n",
      "    'Point(x, y)'\n",
      "    >>> p = Point(11, y=22)             # instantiate with positional args or keywords\n",
      "    >>> p[0] + p[1]                     # indexable like a plain tuple\n",
      "    33\n",
      "    >>> x, y = p                        # unpack like a regular tuple\n",
      "    >>> x, y\n",
      "    (11, 22)\n",
      "    >>> p.x + p.y                       # fields also accessible by name\n",
      "    33\n",
      "    >>> d = p._asdict()                 # convert to a dictionary\n",
      "    >>> d['x']\n",
      "    11\n",
      "    >>> Point(**d)                      # convert from a dictionary\n",
      "    Point(x=11, y=22)\n",
      "    >>> p._replace(x=100)               # _replace() is like str.replace() but targets named fields\n",
      "    Point(x=100, y=22)\n",
      "\n"
     ]
    }
   ],
   "source": [
    "help(namedtuple)"
   ]
  },
  {
   "cell_type": "code",
   "execution_count": 51,
   "id": "c1cef363",
   "metadata": {},
   "outputs": [
    {
     "name": "stdout",
     "output_type": "stream",
     "text": [
      "{'mino2', 'mino3', 'mino'}\n",
      "{'mino2', 'mino3', 'mino', 'mino4'}\n",
      "mino2\n",
      "mino3\n",
      "mino\n",
      "mino4\n"
     ]
    }
   ],
   "source": [
    "s={\"mino\", \"mino2\",\"mino2\",\"mino3\"}\n",
    "print(s) #순서가 조금 다른데? 순서는 알 수 가 없다.\n",
    "#순서와는 큰 상관이 없다.\n",
    "s.add(\"mino4\")\n",
    "print(s)\n",
    "for d in s:\n",
    "    print(d)#얘도 어떤 순서로 나올지 모른다."
   ]
  },
  {
   "cell_type": "code",
   "execution_count": 56,
   "id": "652cd66b",
   "metadata": {},
   "outputs": [
    {
     "name": "stdout",
     "output_type": "stream",
     "text": [
      "{'name': 'mino', 'job': 'student', 'age': 24}\n",
      "0\n",
      "name mino\n",
      "job student\n",
      "age 24\n"
     ]
    }
   ],
   "source": [
    "#dict 생성\n",
    "dic={}\n",
    "#dict 데이터 추가(upsert)\n",
    "dic[\"name\"]=\"mino\"\n",
    "dic[\"job\"]=\"student\"\n",
    "dic[\"age\"]=26\n",
    "dic[\"age\"]=24 #이걸로 다시 덮어씌움\n",
    "print(dic)\n",
    "#print(dic[\"score\"])#없는 키가 들어오면 KeyError\n",
    "print(dic.get(\"score\",0))#KeyError가 아닌 기본값 리턴\n",
    "#순회하기\n",
    "for key in dic:\n",
    "    print(key, dic[key])"
   ]
  },
  {
   "cell_type": "code",
   "execution_count": 59,
   "id": "054f11c9",
   "metadata": {},
   "outputs": [
    {
     "name": "stdout",
     "output_type": "stream",
     "text": [
      "mino 010\n",
      "mino2 016\n",
      "name : mino\n",
      "tel : 010\n",
      "name : mino2\n",
      "tel : 016\n"
     ]
    }
   ],
   "source": [
    "#dict를 이용한 MVC\n",
    "#DTO 역할을 수행하는 클래스 생성 - 최근에는 더 권장\n",
    "#map을 이용하는게 더 좋을 때도 있기는 함\n",
    "class DTO:\n",
    "    def __init__(self, name=\"noname\", tel=\"전화없음\"):\n",
    "        self.name=name\n",
    "        self.tel=tel\n",
    "#데이터 목록 생성\n",
    "data=[DTO(\"mino\",\"010\"), DTO(\"mino2\",\"016\")]\n",
    "#이름과 전화번호 출력\n",
    "for d in data:\n",
    "    print(d.name, d.tel) \n",
    "    #이렇게 한다면 위에 def 부분에서 달라지면 여기도 바꿔야해\n",
    "    #아니면 에러가 나는걸\n",
    "#dict 목록 생성\n",
    "data=[{\"name\":\"mino\", \"tel\":\"010\"},{\"name\":\"mino2\",\"tel\":\"016\"}]\n",
    "for d in data:\n",
    "    for key in d:\n",
    "        print(key,\":\" ,d[key])\n",
    "#dict로 했다면 키값을 바꿔도 에러가 안나지 왜냐?\n",
    "#키 이름을 쓰진 않았기 때문이다.\n",
    "#근데 단순히 data[0][\"name\"] 이러고 싶으면 dict는 codeset의 도움을 못받음"
   ]
  },
  {
   "cell_type": "code",
   "execution_count": 68,
   "id": "0e1aa79c",
   "metadata": {},
   "outputs": [
    {
     "name": "stdout",
     "output_type": "stream",
     "text": [
      "바밤바:ba\tbamba\t\n",
      "바나나:ba\tnana\t\n",
      "사과:ap\tple\t\n"
     ]
    }
   ],
   "source": [
    "#이차원 배열 대신에 dict 사용\n",
    "babamba=[\"ba\",\"bamba\"]\n",
    "banana=[\"ba\",\"nana\"]\n",
    "apple=[\"ap\",\"ple\"]\n",
    "#mine=[babamba,banana,apple]#list의 list\n",
    "#이거 매우 별로다.\n",
    "#list는 인덱스를 통해 접근하고, dict는 key를 통해 접근한다.\n",
    "#for my in mine:\n",
    "    #이렇게 쓰면 바밤바랑 바나나는 못쓴다.\n",
    "for idx, my in enumerate(mine):\n",
    "# enumerate는 인덱스와 데이터를 튜플로 리턴합니다.\n",
    "    if idx==0:\n",
    "        print(\"바밤바\", end='\\t')\n",
    "    else:\n",
    "        print(\"바나나\", end='\\t')\n",
    "    for word in my:\n",
    "        print(word, end='\\t')\n",
    "#여기서 my가 늘어나면 문제가 발생함\n",
    "#인덱스가 변화하게 된다면 어려워진다.\n",
    "mine=[{\"name\":\"바밤바\",\"data\":babamba},{\"name\":\"바나나\",\"data\":banana},{\"name\":\"사과\",\"data\":apple}]\n",
    "for dic in mine:\n",
    "    print(dic.get(\"name\"),end=\":\")\n",
    "    for word in dic.get(\"data\"):\n",
    "        print(word,end='\\t')\n",
    "    print()"
   ]
  },
  {
   "cell_type": "code",
   "execution_count": 82,
   "id": "5a2f443e",
   "metadata": {},
   "outputs": [
    {
     "name": "stdout",
     "output_type": "stream",
     "text": [
      "[0, 1, 4, 9, 16, 25, 36, 49, 64, 81]\n",
      "[0, 1, 4, 9, 16, 25, 36, 49, 64, 81]\n",
      "[4, 5, 6, 8, 10, 12, 12, 15, 18]\n"
     ]
    }
   ],
   "source": [
    "li=list(range(10))\n",
    "#li의 모든 데이터를 제곱한 list를 생성\n",
    "result=[]\n",
    "#일반 반복문\n",
    "# for i in li:\n",
    "#     result.append(i*i)\n",
    "#map 함수를 이용해보자\n",
    "result=list(map(lambda i : i*i,li))\n",
    "print(result)\n",
    "#list comprehension\n",
    "#[연산식 순회할문장]\n",
    "result=[i*i for i in li]\n",
    "print(result)\n",
    "#for 2r개 사용하기\n",
    "li1=[1,2,3]\n",
    "li2=[4,5,6]\n",
    "result1=[x*y for x in li1 for y in li2]\n",
    "print(result1)"
   ]
  },
  {
   "cell_type": "code",
   "execution_count": 91,
   "id": "4fe73f63",
   "metadata": {},
   "outputs": [
    {
     "name": "stdout",
     "output_type": "stream",
     "text": [
      "['윤하', '태연', '다린']\n",
      "['윤하', '태연', '다린']\n",
      "['윤하']\n",
      "['윤하_', '아이유', '태연_', '다린_']\n"
     ]
    }
   ],
   "source": [
    "#for 와 if 사용 가능 - filtering\n",
    "singers=[\"윤하\",\"아이유\",\"태연\",\"다린\"]\n",
    "#글자 수가 2인 데이터만 추출\n",
    "result=list(filter(lambda x:len(x)==2, singers))\n",
    "#위에 필터가 더 느리다.\n",
    "#함수는 항상 별도의 메모리 공간을 받아서 작업을 수행하고\n",
    "#돌아와야 한다.\n",
    "print(result)\n",
    "result1=[x for x in singers if len(x)==2]\n",
    "print(result1)\n",
    "#윤하만 골라내보자.\n",
    "result_Y=[x for x in singers if len(x)==2 and x>\"아\" and x<\"타\"]\n",
    "#조건을 길게 할 수 있다.\n",
    "print(result_Y)\n",
    "#if-else for 활용\n",
    "#3글자 이상은 그대로, 나머지는 _를 추가\n",
    "result_T=[x if len(x)>=3 else x+\"_\" for x in singers]\n",
    "print(result_T)"
   ]
  },
  {
   "cell_type": "code",
   "execution_count": 99,
   "id": "81a6fb17",
   "metadata": {},
   "outputs": [
    {
     "name": "stdout",
     "output_type": "stream",
     "text": [
      "{'한식': 3, '중식': 1, '양식': 2, '일식': 1}\n",
      "3\n",
      "[('한식', 3), ('양식', 2)]\n",
      "Counter({'Apple': 6, 'Banana': 6, 'Orange': 4})\n"
     ]
    }
   ],
   "source": [
    "from collections import Counter\n",
    "data=[\"한식\",\"한식\",\"중식\",\"양식\",\"일식\",\"양식\",\"한식\"]\n",
    "counter=Counter(data)\n",
    "print(dict(counter))\n",
    "#한가지 데이터 파악\n",
    "print(counter[\"한식\"])\n",
    "#상위 2개만 추출해보자.\n",
    "print(counter.most_common(2))"
   ]
  },
  {
   "cell_type": "code",
   "execution_count": 100,
   "id": "b9d30ede",
   "metadata": {},
   "outputs": [
    {
     "name": "stdout",
     "output_type": "stream",
     "text": [
      "Counter({'Apple': 6, 'Banana': 6, 'Orange': 4})\n",
      "Counter({'Apple': 3, 'Orange': 2, 'Banana': 1})\n"
     ]
    }
   ],
   "source": [
    "#튜플의 목록\n",
    "data=[(\"Apple\",3),(\"Apple\",2),(\"Apple\",1),(\"Orange\",1),(\"Banana\",6),(\"Orange\",3)]\n",
    "counter=Counter()\n",
    "#구조를 분해해야겠는걸?\n",
    "#데이터가 등장한 합계 구하기\n",
    "for name, count in data:\n",
    "    counter[name]+=count\n",
    "print(counter)\n",
    "#데이터가 등장한 횟수를 구해보기\n",
    "counter=Counter()\n",
    "for name, count in data:\n",
    "    counter[name]+=1\n",
    "print(counter)"
   ]
  },
  {
   "cell_type": "code",
   "execution_count": 104,
   "id": "a36972b2",
   "metadata": {},
   "outputs": [
    {
     "name": "stdout",
     "output_type": "stream",
     "text": [
      "0.5\n"
     ]
    },
    {
     "ename": "ZeroDivisionError",
     "evalue": "division by zero",
     "output_type": "error",
     "traceback": [
      "\u001b[1;31m---------------------------------------------------------------------------\u001b[0m",
      "\u001b[1;31mZeroDivisionError\u001b[0m                         Traceback (most recent call last)",
      "Cell \u001b[1;32mIn[104], line 4\u001b[0m\n\u001b[0;32m      2\u001b[0m     \u001b[38;5;28;01mreturn\u001b[39;00m \u001b[38;5;241m10\u001b[39m\u001b[38;5;241m/\u001b[39mx\n\u001b[0;32m      3\u001b[0m \u001b[38;5;28mprint\u001b[39m(div(\u001b[38;5;241m20\u001b[39m))\n\u001b[1;32m----> 4\u001b[0m \u001b[38;5;28mprint\u001b[39m(\u001b[43mdiv\u001b[49m\u001b[43m(\u001b[49m\u001b[38;5;241;43m0\u001b[39;49m\u001b[43m)\u001b[49m)\n\u001b[0;32m      5\u001b[0m \u001b[38;5;28mprint\u001b[39m(\u001b[38;5;124m\"\u001b[39m\u001b[38;5;124m프로그램 종료\u001b[39m\u001b[38;5;124m\"\u001b[39m)\n",
      "Cell \u001b[1;32mIn[104], line 2\u001b[0m, in \u001b[0;36mdiv\u001b[1;34m(x)\u001b[0m\n\u001b[0;32m      1\u001b[0m \u001b[38;5;28;01mdef\u001b[39;00m \u001b[38;5;21mdiv\u001b[39m(x):\n\u001b[1;32m----> 2\u001b[0m     \u001b[38;5;28;01mreturn\u001b[39;00m \u001b[38;5;241;43m10\u001b[39;49m\u001b[38;5;241;43m/\u001b[39;49m\u001b[43mx\u001b[49m\n",
      "\u001b[1;31mZeroDivisionError\u001b[0m: division by zero"
     ]
    }
   ],
   "source": [
    "# def div(x):\n",
    "#     return 10/x\n",
    "# print(div(20))\n",
    "# print(div(0))\n",
    "# try: \n",
    "#     예외가 발생할 가능성이 있는 구문\n",
    "# except : \n",
    "#     예외가 발생했을 때 수행할 구문\n",
    "# print(\"프로그램 종료\")"
   ]
  },
  {
   "cell_type": "code",
   "execution_count": 105,
   "id": "6efe09e8",
   "metadata": {},
   "outputs": [
    {
     "name": "stdout",
     "output_type": "stream",
     "text": [
      "0.5\n",
      "예외 발생!\n",
      "프로그램 종료\n"
     ]
    }
   ],
   "source": [
    "def div(x):\n",
    "    return 10/x\n",
    "try: \n",
    "    print(div(20))\n",
    "    print(div(0))\n",
    "except : \n",
    "    print(\"예외 발생!\")\n",
    "print(\"프로그램 종료\")"
   ]
  }
 ],
 "metadata": {
  "kernelspec": {
   "display_name": "Python 3 (ipykernel)",
   "language": "python",
   "name": "python3"
  },
  "language_info": {
   "codemirror_mode": {
    "name": "ipython",
    "version": 3
   },
   "file_extension": ".py",
   "mimetype": "text/x-python",
   "name": "python",
   "nbconvert_exporter": "python",
   "pygments_lexer": "ipython3",
   "version": "3.10.9"
  }
 },
 "nbformat": 4,
 "nbformat_minor": 5
}
